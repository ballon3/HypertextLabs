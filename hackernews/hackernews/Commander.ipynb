{
 "cells": [
  {
   "cell_type": "code",
   "execution_count": 1,
   "metadata": {},
   "outputs": [
    {
     "name": "stdout",
     "output_type": "stream",
     "text": [
      "Migrations for 'distro':\n",
      "  distro\\migrations\\0004_distro_workspace_id.py\n",
      "    - Add field workspace_id to distro\n"
     ]
    }
   ],
   "source": [
    "run manage.py makemigrations"
   ]
  },
  {
   "cell_type": "code",
   "execution_count": 2,
   "metadata": {},
   "outputs": [
    {
     "name": "stdout",
     "output_type": "stream",
     "text": [
      "Operations to perform:\n",
      "  Apply all migrations: admin, auth, contenttypes, distro, sessions\n",
      "Running migrations:\n",
      "  Applying distro.0003_auto_20181229_1826... OK\n",
      "  Applying distro.0004_distro_workspace_id... OK\n"
     ]
    }
   ],
   "source": [
    "run manage.py migrate"
   ]
  },
  {
   "cell_type": "code",
   "execution_count": 2,
   "metadata": {},
   "outputs": [
    {
     "ename": "ImportError",
     "evalue": "cannot import name 'pdi'",
     "output_type": "error",
     "traceback": [
      "\u001b[1;31m-------------------------------------------------------------------------\u001b[0m",
      "\u001b[1;31mImportError\u001b[0m                             Traceback (most recent call last)",
      "\u001b[1;32m<ipython-input-2-645b55682adf>\u001b[0m in \u001b[0;36m<module>\u001b[1;34m\u001b[0m\n\u001b[1;32m----> 1\u001b[1;33m \u001b[1;32mfrom\u001b[0m \u001b[0mpypodio2\u001b[0m \u001b[1;32mimport\u001b[0m \u001b[0mpdi\u001b[0m\u001b[1;33m\u001b[0m\u001b[0m\n\u001b[0m",
      "\u001b[1;31mImportError\u001b[0m: cannot import name 'pdi'"
     ]
    }
   ],
   "source": [
    "from pypodio2 import pdi\n"
   ]
  },
  {
   "cell_type": "code",
   "execution_count": null,
   "metadata": {},
   "outputs": [],
   "source": [
    "\"\"Write function to scrape the type structure from podio App developer page\n",
    "\n",
    "(1) Call Workspace - \n",
    "    rtrn - list appID's\n",
    "    \n",
    "(2) Call App - \n",
    "    sanitize fields \n",
    "    rtrn - template fields\n",
    "    \n",
    "(3)Use Fields to generate Model Field defs and schema queries \n",
    "\n",
    "https://podio.com/{org}/{wrkspace}/apps/{appid}/hooks\n",
    "    - from page extract feilds \n",
    "    \n",
    "text: A short text field that can hold a text string.\n",
    "number: A field that can hold a single number with decimals. \n",
    "image: Holds an image.\n",
    "media: An embedded media typically from youtube or similar.\n",
    "date: A interval presented by a start and optional end date and optional time\n",
    "app: A reference to another app item.\n",
    "money: A currency value\n",
    "progress: The progress of an app item. \n",
    "location: A location in f.ex. Google maps\n",
    "duration: Stores are duration in seconds, but normally presented in hours, minutes and seconds.\n",
    "contact: Reference to a contact, which can be either a user or a space (deprecated) contact.\n",
    "calculation: A calculation based on fields in the same or related apps\n",
    "embed: A list of embeds (links).\n",
    "question: A list of options for the question'\n",
    "file: A list of files matching the configured mimetypes\n",
    "tel: A telephone number\n",
    "\n",
    "    \n",
    "\"\""
   ]
  },
  {
   "cell_type": "code",
   "execution_count": 1,
   "metadata": {},
   "outputs": [
    {
     "ename": "SyntaxError",
     "evalue": "invalid syntax (<ipython-input-1-7c17d95b7f0d>, line 1)",
     "output_type": "error",
     "traceback": [
      "\u001b[1;36m  File \u001b[1;32m\"<ipython-input-1-7c17d95b7f0d>\"\u001b[1;36m, line \u001b[1;32m1\u001b[0m\n\u001b[1;33m    Some fields can be configured to behave in a certain way. The fields with special settings are listed below:\u001b[0m\n\u001b[1;37m              ^\u001b[0m\n\u001b[1;31mSyntaxError\u001b[0m\u001b[1;31m:\u001b[0m invalid syntax\n"
     ]
    }
   ],
   "source": []
  },
  {
   "cell_type": "code",
   "execution_count": null,
   "metadata": {},
   "outputs": [],
   "source": []
  }
 ],
 "metadata": {
  "kernelspec": {
   "display_name": "Django Shell-Plus",
   "language": "python",
   "name": "django_extensions"
  },
  "language_info": {
   "codemirror_mode": {
    "name": "ipython",
    "version": 3
   },
   "file_extension": ".py",
   "mimetype": "text/x-python",
   "name": "python",
   "nbconvert_exporter": "python",
   "pygments_lexer": "ipython3",
   "version": "3.5.6"
  }
 },
 "nbformat": 4,
 "nbformat_minor": 2
}
