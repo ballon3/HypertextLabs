{
 "cells": [
  {
   "cell_type": "code",
   "execution_count": 22,
   "metadata": {},
   "outputs": [],
   "source": [
    "import pprint\n",
    "from pypodio2 import api\n",
    "import json\n"
   ]
  },
  {
   "cell_type": "code",
   "execution_count": 23,
   "metadata": {},
   "outputs": [
    {
     "name": "stdout",
     "output_type": "stream",
     "text": [
      "https://podio.com/applegate-solutions\n",
      "https://podio.com/applegate-solutions/ivxx-distro\n"
     ]
    }
   ],
   "source": [
    "class networkInterface():\n",
    "    \n",
    "    \"\"\"networkInterface authentication and network managment\n",
    "    \"\"\"\n",
    "    \n",
    "    client_id = \"tester-2a2ebd\"\n",
    "    creds = {\n",
    "        \"organization\": \"applegate-solutions\",\n",
    "        \"workspaceName\": \"ivxx-distro\",\n",
    "        \"spaceId\": \"5809234\",\n",
    "        \"clientId\":\"tester-2a2ebd\",\n",
    "        \"clientSecret\": \"Jh1qGaLD4wjBHnqrEXC5lXXO2j1k6cF7s6z1NpDG2ATBT6qIKS2oI1nDScssQgZG\",\n",
    "        \"username\": \"ryan393brown@gmail.com\",\n",
    "        \"password\": \"Cascadia3\",    \n",
    "    }\n",
    "    \n",
    "    credentials = None\n",
    "    \n",
    "    if credentials == None:\n",
    "        \n",
    "        clientId = creds[\"clientId\"]\n",
    "        clientSecret = creds[\"clientSecret\"]\n",
    "        username = creds[\"username\"]\n",
    "        password = creds[\"password\"]\n",
    "        organization = creds[\"organization\"]\n",
    "        workspaceName = creds[\"workspaceName\"] \n",
    "        spaceId = creds[\"spaceId\"]\n",
    "\n",
    "\n",
    "    else:\n",
    " \n",
    "        clientId = raw_input(\"Client ID:\")\n",
    "        clientSecret = raw_input(\"Client Secret:\")\n",
    "        username = raw_input(\"Username:\")\n",
    "        password = raw_input(\"Password:\") \n",
    "        organization = raw_input(\"Organization Name:\")\n",
    "        workspaceName = raw_input(\"Workspace Name:\")\n",
    "        spaceId = raw_input(\"Workspace ID:\")\n",
    "        \n",
    "\n",
    "    organizationUrl = \"https://podio.com/\" + organization\n",
    "    workspaceUrl = organizationUrl + \"/\" + workspaceName\n",
    "    \n",
    "    print organizationUrl \n",
    "    print workspaceUrl \n",
    "\n",
    "\n",
    "\n",
    "    c = api.OAuthClient(\n",
    "        clientId,\n",
    "        clientSecret,\n",
    "        username,\n",
    "        password,    \n",
    "    )\n"
   ]
  },
  {
   "cell_type": "code",
   "execution_count": null,
   "metadata": {},
   "outputs": [],
   "source": [
    "        \"\"\"\n",
    "        This is a raw workspace pull \n",
    "        (1) unique app pre processing\n",
    "        (2) config: description, name, permissions create/edit\n",
    "        (4) url_label\n",
    "        \"\"\""
   ]
  },
  {
   "cell_type": "code",
   "execution_count": 49,
   "metadata": {},
   "outputs": [],
   "source": [
    "class podioInterface():\n",
    "    \n",
    "    networkobj = networkInterface()\n",
    "    cl = networkobj.c\n",
    "    pp = pprint.PrettyPrinter(indent=2)\n",
    "    \n",
    "    def pullWorkspace(podApi):\n",
    "        workspace = cl.Application.list_in_space(obj.spaceId)\n",
    "        pp.pprint(workspace)    "
   ]
  },
  {
   "cell_type": "code",
   "execution_count": 51,
   "metadata": {},
   "outputs": [],
   "source": [
    "    def pullFields(cl, appid):\n",
    "\n",
    "        \"\"\"pullFields retrieves fields for given application id\n",
    "\n",
    "        Args:\n",
    "            app (string): podio application id\n",
    "        \"\"\"\n",
    "\n",
    "        networkobj = networkInterface()\n",
    "        cl = networkobj.c\n",
    "        pp = pprint.PrettyPrinter(indent=2)\n",
    "\n",
    "        fids = []\n",
    "\n",
    "        resp = cl.Application.find(appid)\n",
    "        fields = resp['fields']\n",
    "        appN = resp['url_label']\n",
    "        \n",
    "        #Create app dictionary to hold app Name,\n",
    "        app = {\n",
    "            \"app\": appN.encode('utf-8'),\n",
    "            \"appId\": appid.encode('utf-8'),\n",
    "            \"fields\": []\n",
    "        }\n",
    "\n",
    "        #Append field to fields, in app dictionary \n",
    "\n",
    "        for field in fields:\n",
    "            fapps = []\n",
    "            label = field['label']\n",
    "            typ = field['type']\n",
    "            \n",
    "            fid = field['field_id']\n",
    "\n",
    "            if typ == 'calculation':\n",
    "\n",
    "                rtyp = field['config']['settings']['return_type']\n",
    "                \n",
    "                app['fields'].append({\"name\": label.encode('utf-8'), \"type\": rtyp.encode('utf-8'), \"id\": fid})                                \n",
    "        \n",
    "            else:\n",
    "                app['fields'].append({\"name\": label.encode('utf-8'), \"type\": typ.encode('utf-8'), \"id\": fid})\n",
    "                \n",
    "        return app "
   ]
  },
  {
   "cell_type": "code",
   "execution_count": 50,
   "metadata": {},
   "outputs": [
    {
     "ename": "NameError",
     "evalue": "global name 'c' is not defined",
     "output_type": "error",
     "traceback": [
      "\u001b[0;31m-----------------------------------------------------------------------\u001b[0m",
      "\u001b[0;31mNameError\u001b[0m                             Traceback (most recent call last)",
      "\u001b[0;32m<ipython-input-50-cf1554f6e85d>\u001b[0m in \u001b[0;36m<module>\u001b[0;34m()\u001b[0m\n\u001b[0;32m----> 1\u001b[0;31m \u001b[0mmapps\u001b[0m \u001b[0;34m=\u001b[0m \u001b[0mpullFields\u001b[0m\u001b[0;34m(\u001b[0m\u001b[0;34m'20157522'\u001b[0m\u001b[0;34m)\u001b[0m\u001b[0;34m\u001b[0m\u001b[0m\n\u001b[0m\u001b[1;32m      2\u001b[0m \u001b[0md\u001b[0m \u001b[0;34m=\u001b[0m \u001b[0mmapps\u001b[0m\u001b[0;34m\u001b[0m\u001b[0m\n\u001b[1;32m      3\u001b[0m \u001b[0;34m\u001b[0m\u001b[0m\n\u001b[1;32m      4\u001b[0m \u001b[0;34m\u001b[0m\u001b[0m\n\u001b[1;32m      5\u001b[0m \u001b[0;32mdef\u001b[0m \u001b[0mauthor\u001b[0m\u001b[0;34m(\u001b[0m\u001b[0mdata\u001b[0m\u001b[0;34m)\u001b[0m\u001b[0;34m:\u001b[0m\u001b[0;34m\u001b[0m\u001b[0m\n",
      "\u001b[0;32m<ipython-input-16-4fca0102e037>\u001b[0m in \u001b[0;36mpullFields\u001b[0;34m(app)\u001b[0m\n\u001b[1;32m      9\u001b[0m     \u001b[0mfids\u001b[0m \u001b[0;34m=\u001b[0m \u001b[0;34m[\u001b[0m\u001b[0;34m]\u001b[0m\u001b[0;34m\u001b[0m\u001b[0m\n\u001b[1;32m     10\u001b[0m \u001b[0;34m\u001b[0m\u001b[0m\n\u001b[0;32m---> 11\u001b[0;31m     \u001b[0mresp\u001b[0m \u001b[0;34m=\u001b[0m \u001b[0mc\u001b[0m\u001b[0;34m.\u001b[0m\u001b[0mApplication\u001b[0m\u001b[0;34m.\u001b[0m\u001b[0mfind\u001b[0m\u001b[0;34m(\u001b[0m\u001b[0mapp\u001b[0m\u001b[0;34m)\u001b[0m\u001b[0;34m\u001b[0m\u001b[0m\n\u001b[0m\u001b[1;32m     12\u001b[0m     \u001b[0mfields\u001b[0m \u001b[0;34m=\u001b[0m \u001b[0mresp\u001b[0m\u001b[0;34m[\u001b[0m\u001b[0;34m'fields'\u001b[0m\u001b[0;34m]\u001b[0m\u001b[0;34m\u001b[0m\u001b[0m\n\u001b[1;32m     13\u001b[0m     \u001b[0mappN\u001b[0m \u001b[0;34m=\u001b[0m \u001b[0mresp\u001b[0m\u001b[0;34m[\u001b[0m\u001b[0;34m'url_label'\u001b[0m\u001b[0;34m]\u001b[0m\u001b[0;34m\u001b[0m\u001b[0m\n",
      "\u001b[0;31mNameError\u001b[0m: global name 'c' is not defined"
     ]
    }
   ],
   "source": [
    "    mapps = pullFields('20157522')\n",
    "    d = mapps\n",
    "\n",
    "    \n",
    "    def author(data):\n",
    "        with open('check.py', 'a') as f:\n",
    "\n",
    "            fields = data['fields']\n",
    "            app = data['app']\n",
    "\n",
    "            django_model_class = \"class {}(models.Model):\\n\".format(app.upper())\n",
    "            f.write(django_model_class)\n",
    "\n",
    "            for i in fields:\n",
    "                n = i['name']\n",
    "\n",
    "                django_model_field = \"    {} = models.TextField(max_length=100)\\n\".format(n)\n",
    "                f.write(django_model_field)          \n",
    "                print(type(django_model_field))\n",
    "            f.write('\\n')\n",
    "\n",
    "\n",
    "        with open('schema.py', 'a') as s:\n",
    "            k = data['app']\n",
    "\n",
    "            schema_type_def = \"class {0}Type(DjangoObjectType):\\n    class Meta:\\n        model = {0}\\n\".format(k)\n",
    "            s.write(schema_type_def)\n",
    "            s.write('\\n')\n",
    "\n",
    "\n",
    "    def podioAuthor(data):\n",
    "        for i in data:\n",
    "            author(data)\n",
    "        \n",
    "\n",
    "\n",
    "    author(d)"
   ]
  },
  {
   "cell_type": "code",
   "execution_count": null,
   "metadata": {},
   "outputs": [],
   "source": []
  }
 ],
 "metadata": {
  "kernelspec": {
   "display_name": "Python 2",
   "language": "python",
   "name": "python2"
  },
  "language_info": {
   "codemirror_mode": {
    "name": "ipython",
    "version": 2
   },
   "file_extension": ".py",
   "mimetype": "text/x-python",
   "name": "python",
   "nbconvert_exporter": "python",
   "pygments_lexer": "ipython2",
   "version": "2.7.12"
  }
 },
 "nbformat": 4,
 "nbformat_minor": 2
}
